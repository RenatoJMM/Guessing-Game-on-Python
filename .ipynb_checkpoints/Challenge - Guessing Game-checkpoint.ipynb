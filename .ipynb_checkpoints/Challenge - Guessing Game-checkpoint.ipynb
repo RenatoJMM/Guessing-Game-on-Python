{
 "cells": [
  {
   "cell_type": "code",
   "execution_count": 1,
   "id": "d27c0fe6",
   "metadata": {},
   "outputs": [
    {
     "name": "stdout",
     "output_type": "stream",
     "text": [
      "Guess the number: 50\n",
      "FRIO\n",
      "Guess the number: 80\n",
      "ESFRIANDO\n",
      "Guess the number: 25\n",
      "ESQUENTANDO\n",
      "Guess the number: 15\n",
      "ESQUENTANDO\n",
      "Guess the number: 10\n",
      "ESQUENTANDO\n",
      "Guess the number: 5\n",
      "ESFRIANDO\n",
      "Guess the number: 12\n",
      "ESQUENTANDO\n",
      "Guess the number: 13\n",
      "ESFRIANDO\n",
      "Guess the number: 11\n",
      "ESQUENTANDO\n",
      "Guess the number: 9\n",
      "PARABÉNS VOCÊ ACERTOU! COM 10 CHUTES!\n"
     ]
    }
   ],
   "source": [
    "from random import randint\n",
    "\n",
    "luckynumber = randint(0,100)\n",
    "result = None\n",
    "turn = 0\n",
    "numberofguesses = 0\n",
    "currentdiference = 0\n",
    "pastdiference = 0\n",
    "\n",
    "while result != luckynumber:\n",
    "    \n",
    "    result = input(\"Guess the number: \")\n",
    "    \n",
    "    if result == \"Desisto\":\n",
    "        break\n",
    "        \n",
    "    result = int(result)\n",
    "    currentdiference = result - luckynumber\n",
    "    \n",
    "    if currentdiference < 0:\n",
    "        currentdiference = currentdiference * (-1)\n",
    "    \n",
    "    if result == luckynumber:\n",
    "        print(f\"PARABÉNS VOCÊ ACERTOU! COM {numberofguesses+1} CHUTES!\")\n",
    "        break\n",
    "\n",
    "    if result < 0 or result > 100:\n",
    "        print(\"FORA DO LIMITE! TENTE NOVAMENTE!\")\n",
    "\n",
    "    if turn == 0:\n",
    "        if result < (luckynumber + 5) and result > (luckynumber - 5):\n",
    "            print(\"QUENTE!\")\n",
    "        else:\n",
    "            print(\"FRIO\")\n",
    "    else:\n",
    "        if pastdiference > currentdiference:\n",
    "            print(\"ESQUENTANDO\")\n",
    "            \n",
    "        elif pastdiference == currentdiference:\n",
    "            print(\"MESMA DIFERENÇA\")\n",
    "            \n",
    "        else:\n",
    "            print(\"ESFRIANDO\")\n",
    "    \n",
    "    \n",
    "    pastdiference = currentdiference;\n",
    "    numberofguesses += 1\n",
    "    turn += 1"
   ]
  },
  {
   "cell_type": "code",
   "execution_count": null,
   "id": "2de3ddb4",
   "metadata": {},
   "outputs": [],
   "source": []
  }
 ],
 "metadata": {
  "kernelspec": {
   "display_name": "py38_jupyter_kernel",
   "language": "python",
   "name": "py38_jupyter_kernel"
  },
  "language_info": {
   "codemirror_mode": {
    "name": "ipython",
    "version": 3
   },
   "file_extension": ".py",
   "mimetype": "text/x-python",
   "name": "python",
   "nbconvert_exporter": "python",
   "pygments_lexer": "ipython3",
   "version": "3.8.13"
  }
 },
 "nbformat": 4,
 "nbformat_minor": 5
}
